{
  "cells": [
    {
      "cell_type": "markdown",
      "metadata": {
        "id": "7WXQmoiv9zmH"
      },
      "source": [
        "必要なライブラリをインストールする"
      ]
    },
    {
      "cell_type": "code",
      "execution_count": 1,
      "metadata": {
        "colab": {
          "base_uri": "https://localhost:8080/"
        },
        "id": "QWeI3LeZq2m8",
        "outputId": "52dcab0d-8309-4e3d-ef97-6c247fb7448f"
      },
      "outputs": [
        {
          "name": "stdout",
          "output_type": "stream",
          "text": [
            "Requirement already satisfied: nibabel in /usr/local/lib/python3.10/dist-packages (5.1.0)\n",
            "Requirement already satisfied: numpy>=1.19 in /usr/local/lib/python3.10/dist-packages (from nibabel) (1.22.4)\n",
            "Requirement already satisfied: packaging>=17 in /usr/local/lib/python3.10/dist-packages (from nibabel) (23.1)\n",
            "\u001b[31mERROR: Operation cancelled by user\u001b[0m\u001b[31m\n",
            "\u001b[0mRequirement already satisfied: nilearn in /usr/local/lib/python3.10/dist-packages (0.10.1)\n",
            "Requirement already satisfied: joblib>=1.0.0 in /usr/local/lib/python3.10/dist-packages (from nilearn) (1.3.1)\n",
            "Requirement already satisfied: lxml in /usr/local/lib/python3.10/dist-packages (from nilearn) (4.9.3)\n",
            "Requirement already satisfied: nibabel>=3.2.0 in /usr/local/lib/python3.10/dist-packages (from nilearn) (5.1.0)\n",
            "Requirement already satisfied: numpy>=1.19.0 in /usr/local/lib/python3.10/dist-packages (from nilearn) (1.22.4)\n",
            "Requirement already satisfied: packaging in /usr/local/lib/python3.10/dist-packages (from nilearn) (23.1)\n",
            "Requirement already satisfied: pandas>=1.1.5 in /usr/local/lib/python3.10/dist-packages (from nilearn) (1.5.3)\n",
            "Requirement already satisfied: requests>=2.25.0 in /usr/local/lib/python3.10/dist-packages (from nilearn) (2.27.1)\n",
            "Requirement already satisfied: scikit-learn>=1.0.0 in /usr/local/lib/python3.10/dist-packages (from nilearn) (1.2.2)\n",
            "Requirement already satisfied: scipy>=1.6.0 in /usr/local/lib/python3.10/dist-packages (from nilearn) (1.10.1)\n",
            "Requirement already satisfied: python-dateutil>=2.8.1 in /usr/local/lib/python3.10/dist-packages (from pandas>=1.1.5->nilearn) (2.8.2)\n",
            "Requirement already satisfied: pytz>=2020.1 in /usr/local/lib/python3.10/dist-packages (from pandas>=1.1.5->nilearn) (2022.7.1)\n",
            "Requirement already satisfied: urllib3<1.27,>=1.21.1 in /usr/local/lib/python3.10/dist-packages (from requests>=2.25.0->nilearn) (1.26.16)\n",
            "Requirement already satisfied: certifi>=2017.4.17 in /usr/local/lib/python3.10/dist-packages (from requests>=2.25.0->nilearn) (2023.7.22)\n",
            "Requirement already satisfied: charset-normalizer~=2.0.0 in /usr/local/lib/python3.10/dist-packages (from requests>=2.25.0->nilearn) (2.0.12)\n",
            "Requirement already satisfied: idna<4,>=2.5 in /usr/local/lib/python3.10/dist-packages (from requests>=2.25.0->nilearn) (3.4)\n",
            "Requirement already satisfied: threadpoolctl>=2.0.0 in /usr/local/lib/python3.10/dist-packages (from scikit-learn>=1.0.0->nilearn) (3.2.0)\n",
            "Requirement already satisfied: six>=1.5 in /usr/local/lib/python3.10/dist-packages (from python-dateutil>=2.8.1->pandas>=1.1.5->nilearn) (1.16.0)\n",
            "\u001b[31mERROR: Operation cancelled by user\u001b[0m\u001b[31m\n",
            "\u001b[0m"
          ]
        }
      ],
      "source": [
        "!pip install nibabel\n",
        "!pip install nilearn"
      ]
    },
    {
      "cell_type": "code",
      "execution_count": 2,
      "metadata": {
        "id": "oGiNYnqCyzSU"
      },
      "outputs": [],
      "source": [
        "# import library\n",
        "import nibabel as nib\n",
        "import matplotlib.pyplot as plt\n",
        "import nibabel as nib\n",
        "import numpy as np\n",
        "from matplotlib.animation import FuncAnimation\n",
        "from IPython.display import display\n",
        "from nilearn import plotting\n",
        "import ipywidgets as widgets"
      ]
    },
    {
      "cell_type": "markdown",
      "metadata": {
        "id": "UaOcMSWq9-Dv"
      },
      "source": [
        "統計量の確認"
      ]
    },
    {
      "cell_type": "code",
      "execution_count": 3,
      "metadata": {
        "colab": {
          "base_uri": "https://localhost:8080/"
        },
        "id": "m5Zys-a4qsAV",
        "outputId": "3788325d-c06b-46ac-a0c2-28b9e71108d3"
      },
      "outputs": [
        {
          "data": {
            "text/plain": [
              "(<nibabel.nifti1.Nifti1Header at 0x7e4ca508ac50>,\n",
              " (300, 360, 220),\n",
              " array([[  0.1       ,   0.        ,  -0.        , -15.09119987],\n",
              "        [  0.        ,   0.1       ,  -0.        , -19.59397507],\n",
              "        [  0.        ,   0.        ,   0.1       , -11.34401989],\n",
              "        [  0.        ,   0.        ,   0.        ,   1.        ]]),\n",
              " dtype('<f8'))"
            ]
          },
          "execution_count": 3,
          "metadata": {},
          "output_type": "execute_result"
        }
      ],
      "source": [
        "nifti_data = nib.load(\"sp2_label_512_v1.0.0.nii.gz\")\n",
        "\n",
        "header_info = nifti_data.header\n",
        "data_shape = nifti_data.shape\n",
        "affine = nifti_data.affine\n",
        "data_type = header_info.get_data_dtype()\n",
        "\n",
        "header_info, data_shape, affine, data_type\n"
      ]
    },
    {
      "cell_type": "code",
      "execution_count": 4,
      "metadata": {
        "colab": {
          "base_uri": "https://localhost:8080/",
          "height": 430
        },
        "id": "4U6EwoKQre3N",
        "outputId": "222d685b-7eb6-4798-f415-7a1713cd16f8"
      },
      "outputs": [
        {
          "data": {
            "image/png": "[encoded data removed]",
            "text/plain": [
              "<Figure size 640x480 with 1 Axes>"
            ]
          },
          "metadata": {},
          "output_type": "display_data"
        }
      ],
      "source": [
        "data = nifti_data.get_fdata()\n",
        "axial_slice = data[:, :, data.shape[2] // 2]\n",
        "\n",
        "plt.imshow(axial_slice.T, cmap=\"gray\", origin=\"lower\")\n",
        "plt.show()"
      ]
    },
    {
      "cell_type": "code",
      "execution_count": 5,
      "metadata": {
        "colab": {
          "base_uri": "https://localhost:8080/",
          "height": 297
        },
        "id": "Efx_5BtSrw5g",
        "outputId": "390b5be9-d169-420e-8719-85063ebb8e5c"
      },
      "outputs": [
        {
          "data": {
            "image/png": "[encoded data removed]",
            "text/plain": [
              "<Figure size 660x260 with 4 Axes>"
            ]
          },
          "metadata": {},
          "output_type": "display_data"
        }
      ],
      "source": [
        "plotting.plot_img(\"sp2_label_512_v1.0.0.nii.gz\")\n",
        "plotting.show()"
      ]
    },
    {
      "cell_type": "markdown",
      "metadata": {
        "id": "okx2xVV69ltr"
      },
      "source": [
        "左半球が暗く見えるのはデータセットの元々の性質っぽさそう."
      ]
    },
    {
      "cell_type": "markdown",
      "metadata": {
        "id": "s8YOAXJn-sDi"
      },
      "source": [
        "各軸の座標を変化させたときの図をアニメーションで出力"
      ]
    },
    {
      "cell_type": "code",
      "execution_count": 6,
      "metadata": {
        "id": "4cnOHmI83b7_"
      },
      "outputs": [],
      "source": [
        "def create_animation(axis='z'):\n",
        "    fig, ax = plt.subplots(figsize=(6, 6))\n",
        "    ax.axis('off')\n",
        "\n",
        "    if axis == 'x':\n",
        "        image = ax.imshow(data[data.shape[0] // 2, :, :], cmap=\"gray\", origin=\"lower\")\n",
        "        def update(frame):\n",
        "            image.set_array(data[frame, :, :])\n",
        "            return image,\n",
        "        ani = FuncAnimation(fig, update, frames=np.arange(1, data.shape[0]), blit=True)\n",
        "\n",
        "    elif axis == 'y':\n",
        "        image = ax.imshow(data[:, data.shape[1] // 2, :], cmap=\"gray\", origin=\"lower\")\n",
        "        def update(frame):\n",
        "            image.set_array(data[:, frame, :])\n",
        "            return image,\n",
        "        ani = FuncAnimation(fig, update, frames=np.arange(1, data.shape[1]), blit=True)\n",
        "\n",
        "    else: # 'z'\n",
        "        image = ax.imshow(data[:, :, data.shape[2] // 2], cmap=\"gray\", origin=\"lower\")\n",
        "        def update(frame):\n",
        "            image.set_array(data[:, :, frame])\n",
        "            return image,\n",
        "        ani = FuncAnimation(fig, update, frames=np.arange(1, data.shape[2]), blit=True)\n",
        "\n",
        "    filename = f'animation_move_{axis}label.mp4'\n",
        "    ani.save(filename, writer='ffmpeg', fps=30)\n",
        "    plt.close(fig)\n",
        "    return filename"
      ]
    },
    {
      "cell_type": "code",
      "execution_count": 8,
      "metadata": {
        "colab": {
          "base_uri": "https://localhost:8080/",
          "height": 35
        },
        "id": "2c88AawHApvs",
        "outputId": "cba88c92-671a-4e8b-bce2-9ffa05c6e483"
      },
      "outputs": [
        {
          "data": {
            "application/vnd.google.colaboratory.intrinsic+json": {
              "type": "string"
            },
            "text/plain": [
              "'animation_move_zlabel.mp4'"
            ]
          },
          "execution_count": 8,
          "metadata": {},
          "output_type": "execute_result"
        }
      ],
      "source": [
        "create_animation('x')\n",
        "create_animation('y')\n",
        "create_animation('z')"
      ]
    },
    {
      "cell_type": "markdown",
      "metadata": {
        "id": "D0Cs0uPJ-1cH"
      },
      "source": [
        "スライダーで扱えるように調整"
      ]
    },
    {
      "cell_type": "code",
      "execution_count": 9,
      "metadata": {
        "colab": {
          "base_uri": "https://localhost:8080/",
          "height": 595,
          "referenced_widgets": [
            "1e85d1c844c34630b1f0374fe4053358",
            "bb7f40f5789a419e980080bac96916cb",
            "585f882d8ee14c6da05c9cabb6eb097f",
            "39c07ad3d664469dbd22325c182f017d",
            "970951b8ac814d76942825916ba2c6a5",
            "92e551d2204a419f8c86a2865c945c08",
            "5433d7a5bc05460ca01f92c2f45099ad",
            "89dde09a92ca416fa8cd74507be8b0f3",
            "28539f851f9d452ea9ec2b5e167cc256",
            "f1fe73d9bfda40e89df87fb548ef1f85",
            "9505855a48e44bb48634b7accb0f7a9d",
            "3ac771bf10594b4faf37ab058380c456",
            "9f3946a0c44e44df84ff5ae7cabe851b"
          ]
        },
        "id": "YN3V3g_z5iNK",
        "outputId": "b4f7aff6-ed95-4c00-f772-a7fb7e03029a"
      },
      "outputs": [
        {
          "data": {
            "application/vnd.jupyter.widget-view+json": {
              "model_id": "1e85d1c844c34630b1f0374fe4053358",
              "version_major": 2,
              "version_minor": 0
            },
            "text/plain": [
              "interactive(children=(IntSlider(value=150, description='X Slice:', max=299), IntSlider(value=180, description=…"
            ]
          },
          "metadata": {},
          "output_type": "display_data"
        }
      ],
      "source": [
        "nifti_data = nib.load(\"sp2_label_512_v1.0.0.nii.gz\")\n",
        "data = nifti_data.get_fdata()\n",
        "\n",
        "fig, ax = plt.subplots(figsize=(6, 6))\n",
        "ax.axis('off')\n",
        "image = ax.imshow(data[150, :, :], cmap=\"gray\", origin=\"lower\")\n",
        "plt.close(fig)\n",
        "\n",
        "def update_slices(x_slice, y_slice, z_slice):\n",
        "    ax.imshow(data[x_slice, :, :], cmap=\"gray\", origin=\"lower\")\n",
        "    display(fig)\n",
        "\n",
        "x_slider = widgets.IntSlider(value=data.shape[0] // 2, min=0, max=data.shape[0]-1, description='X Slice:')\n",
        "y_slider = widgets.IntSlider(value=data.shape[1] // 2, min=0, max=data.shape[1]-1, description='Y Slice:')\n",
        "z_slider = widgets.IntSlider(value=data.shape[2] // 2, min=0, max=data.shape[2]-1, description='Z Slice:')\n",
        "widgets.interactive(update_slices, x_slice=x_slider, y_slice=y_slider, z_slice=z_slider)\n"
      ]
    }
  ],
  "metadata": {
    "colab": {
      "provenance": []
    },
    "kernelspec": {
      "display_name": "Python 3",
      "name": "python3"
    },
    "language_info": {
      "name": "python"
    },
    "widgets": {
      "application/vnd.jupyter.widget-state+json": {
        "1e85d1c844c34630b1f0374fe4053358": {
          "model_module": "@jupyter-widgets/controls",
          "model_module_version": "1.5.0",
          "model_name": "VBoxModel",
          "state": {
            "_dom_classes": [
              "widget-interact"
            ],
            "_model_module": "@jupyter-widgets/controls",
            "_model_module_version": "1.5.0",
            "_model_name": "VBoxModel",
            "_view_count": null,
            "_view_module": "@jupyter-widgets/controls",
            "_view_module_version": "1.5.0",
            "_view_name": "VBoxView",
            "box_style": "",
            "children": [
              "IPY_MODEL_bb7f40f5789a419e980080bac96916cb",
              "IPY_MODEL_585f882d8ee14c6da05c9cabb6eb097f",
              "IPY_MODEL_39c07ad3d664469dbd22325c182f017d",
              "IPY_MODEL_970951b8ac814d76942825916ba2c6a5"
            ],
            "layout": "IPY_MODEL_92e551d2204a419f8c86a2865c945c08"
          }
        },
        "28539f851f9d452ea9ec2b5e167cc256": {
          "model_module": "@jupyter-widgets/base",
          "model_module_version": "1.2.0",
          "model_name": "LayoutModel",
          "state": {
            "_model_module": "@jupyter-widgets/base",
            "_model_module_version": "1.2.0",
            "_model_name": "LayoutModel",
            "_view_count": null,
            "_view_module": "@jupyter-widgets/base",
            "_view_module_version": "1.2.0",
            "_view_name": "LayoutView",
            "align_content": null,
            "align_items": null,
            "align_self": null,
            "border": null,
            "bottom": null,
            "display": null,
            "flex": null,
            "flex_flow": null,
            "grid_area": null,
            "grid_auto_columns": null,
            "grid_auto_flow": null,
            "grid_auto_rows": null,
            "grid_column": null,
            "grid_gap": null,
            "grid_row": null,
            "grid_template_areas": null,
            "grid_template_columns": null,
            "grid_template_rows": null,
            "height": null,
            "justify_content": null,
            "justify_items": null,
            "left": null,
            "margin": null,
            "max_height": null,
            "max_width": null,
            "min_height": null,
            "min_width": null,
            "object_fit": null,
            "object_position": null,
            "order": null,
            "overflow": null,
            "overflow_x": null,
            "overflow_y": null,
            "padding": null,
            "right": null,
            "top": null,
            "visibility": null,
            "width": null
          }
        },
        "39c07ad3d664469dbd22325c182f017d": {
          "model_module": "@jupyter-widgets/controls",
          "model_module_version": "1.5.0",
          "model_name": "IntSliderModel",
          "state": {
            "_dom_classes": [],
            "_model_module": "@jupyter-widgets/controls",
            "_model_module_version": "1.5.0",
            "_model_name": "IntSliderModel",
            "_view_count": null,
            "_view_module": "@jupyter-widgets/controls",
            "_view_module_version": "1.5.0",
            "_view_name": "IntSliderView",
            "continuous_update": true,
            "description": "Z Slice:",
            "description_tooltip": null,
            "disabled": false,
            "layout": "IPY_MODEL_9505855a48e44bb48634b7accb0f7a9d",
            "max": 219,
            "min": 0,
            "orientation": "horizontal",
            "readout": true,
            "readout_format": "d",
            "step": 1,
            "style": "IPY_MODEL_3ac771bf10594b4faf37ab058380c456",
            "value": 110
          }
        },
        "3ac771bf10594b4faf37ab058380c456": {
          "model_module": "@jupyter-widgets/controls",
          "model_module_version": "1.5.0",
          "model_name": "SliderStyleModel",
          "state": {
            "_model_module": "@jupyter-widgets/controls",
            "_model_module_version": "1.5.0",
            "_model_name": "SliderStyleModel",
            "_view_count": null,
            "_view_module": "@jupyter-widgets/base",
            "_view_module_version": "1.2.0",
            "_view_name": "StyleView",
            "description_width": "",
            "handle_color": null
          }
        },
        "5433d7a5bc05460ca01f92c2f45099ad": {
          "model_module": "@jupyter-widgets/base",
          "model_module_version": "1.2.0",
          "model_name": "LayoutModel",
          "state": {
            "_model_module": "@jupyter-widgets/base",
            "_model_module_version": "1.2.0",
            "_model_name": "LayoutModel",
            "_view_count": null,
            "_view_module": "@jupyter-widgets/base",
            "_view_module_version": "1.2.0",
            "_view_name": "LayoutView",
            "align_content": null,
            "align_items": null,
            "align_self": null,
            "border": null,
            "bottom": null,
            "display": null,
            "flex": null,
            "flex_flow": null,
            "grid_area": null,
            "grid_auto_columns": null,
            "grid_auto_flow": null,
            "grid_auto_rows": null,
            "grid_column": null,
            "grid_gap": null,
            "grid_row": null,
            "grid_template_areas": null,
            "grid_template_columns": null,
            "grid_template_rows": null,
            "height": null,
            "justify_content": null,
            "justify_items": null,
            "left": null,
            "margin": null,
            "max_height": null,
            "max_width": null,
            "min_height": null,
            "min_width": null,
            "object_fit": null,
            "object_position": null,
            "order": null,
            "overflow": null,
            "overflow_x": null,
            "overflow_y": null,
            "padding": null,
            "right": null,
            "top": null,
            "visibility": null,
            "width": null
          }
        },
        "585f882d8ee14c6da05c9cabb6eb097f": {
          "model_module": "@jupyter-widgets/controls",
          "model_module_version": "1.5.0",
          "model_name": "IntSliderModel",
          "state": {
            "_dom_classes": [],
            "_model_module": "@jupyter-widgets/controls",
            "_model_module_version": "1.5.0",
            "_model_name": "IntSliderModel",
            "_view_count": null,
            "_view_module": "@jupyter-widgets/controls",
            "_view_module_version": "1.5.0",
            "_view_name": "IntSliderView",
            "continuous_update": true,
            "description": "Y Slice:",
            "description_tooltip": null,
            "disabled": false,
            "layout": "IPY_MODEL_28539f851f9d452ea9ec2b5e167cc256",
            "max": 359,
            "min": 0,
            "orientation": "horizontal",
            "readout": true,
            "readout_format": "d",
            "step": 1,
            "style": "IPY_MODEL_f1fe73d9bfda40e89df87fb548ef1f85",
            "value": 180
          }
        },
        "89dde09a92ca416fa8cd74507be8b0f3": {
          "model_module": "@jupyter-widgets/controls",
          "model_module_version": "1.5.0",
          "model_name": "SliderStyleModel",
          "state": {
            "_model_module": "@jupyter-widgets/controls",
            "_model_module_version": "1.5.0",
            "_model_name": "SliderStyleModel",
            "_view_count": null,
            "_view_module": "@jupyter-widgets/base",
            "_view_module_version": "1.2.0",
            "_view_name": "StyleView",
            "description_width": "",
            "handle_color": null
          }
        },
        "92e551d2204a419f8c86a2865c945c08": {
          "model_module": "@jupyter-widgets/base",
          "model_module_version": "1.2.0",
          "model_name": "LayoutModel",
          "state": {
            "_model_module": "@jupyter-widgets/base",
            "_model_module_version": "1.2.0",
            "_model_name": "LayoutModel",
            "_view_count": null,
            "_view_module": "@jupyter-widgets/base",
            "_view_module_version": "1.2.0",
            "_view_name": "LayoutView",
            "align_content": null,
            "align_items": null,
            "align_self": null,
            "border": null,
            "bottom": null,
            "display": null,
            "flex": null,
            "flex_flow": null,
            "grid_area": null,
            "grid_auto_columns": null,
            "grid_auto_flow": null,
            "grid_auto_rows": null,
            "grid_column": null,
            "grid_gap": null,
            "grid_row": null,
            "grid_template_areas": null,
            "grid_template_columns": null,
            "grid_template_rows": null,
            "height": null,
            "justify_content": null,
            "justify_items": null,
            "left": null,
            "margin": null,
            "max_height": null,
            "max_width": null,
            "min_height": null,
            "min_width": null,
            "object_fit": null,
            "object_position": null,
            "order": null,
            "overflow": null,
            "overflow_x": null,
            "overflow_y": null,
            "padding": null,
            "right": null,
            "top": null,
            "visibility": null,
            "width": null
          }
        },
        "9505855a48e44bb48634b7accb0f7a9d": {
          "model_module": "@jupyter-widgets/base",
          "model_module_version": "1.2.0",
          "model_name": "LayoutModel",
          "state": {
            "_model_module": "@jupyter-widgets/base",
            "_model_module_version": "1.2.0",
            "_model_name": "LayoutModel",
            "_view_count": null,
            "_view_module": "@jupyter-widgets/base",
            "_view_module_version": "1.2.0",
            "_view_name": "LayoutView",
            "align_content": null,
            "align_items": null,
            "align_self": null,
            "border": null,
            "bottom": null,
            "display": null,
            "flex": null,
            "flex_flow": null,
            "grid_area": null,
            "grid_auto_columns": null,
            "grid_auto_flow": null,
            "grid_auto_rows": null,
            "grid_column": null,
            "grid_gap": null,
            "grid_row": null,
            "grid_template_areas": null,
            "grid_template_columns": null,
            "grid_template_rows": null,
            "height": null,
            "justify_content": null,
            "justify_items": null,
            "left": null,
            "margin": null,
            "max_height": null,
            "max_width": null,
            "min_height": null,
            "min_width": null,
            "object_fit": null,
            "object_position": null,
            "order": null,
            "overflow": null,
            "overflow_x": null,
            "overflow_y": null,
            "padding": null,
            "right": null,
            "top": null,
            "visibility": null,
            "width": null
          }
        },
        "970951b8ac814d76942825916ba2c6a5": {
          "model_module": "@jupyter-widgets/output",
          "model_module_version": "1.0.0",
          "model_name": "OutputModel",
          "state": {
            "_dom_classes": [],
            "_model_module": "@jupyter-widgets/output",
            "_model_module_version": "1.0.0",
            "_model_name": "OutputModel",
            "_view_count": null,
            "_view_module": "@jupyter-widgets/output",
            "_view_module_version": "1.0.0",
            "_view_name": "OutputView",
            "layout": "IPY_MODEL_9f3946a0c44e44df84ff5ae7cabe851b",
            "msg_id": "",
            "outputs": [
              {
                "data": {
                  "image/png": "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\n",
                  "text/plain": "<Figure size 600x600 with 1 Axes>"
                },
                "metadata": {},
                "output_type": "display_data"
              }
            ]
          }
        },
        "9f3946a0c44e44df84ff5ae7cabe851b": {
          "model_module": "@jupyter-widgets/base",
          "model_module_version": "1.2.0",
          "model_name": "LayoutModel",
          "state": {
            "_model_module": "@jupyter-widgets/base",
            "_model_module_version": "1.2.0",
            "_model_name": "LayoutModel",
            "_view_count": null,
            "_view_module": "@jupyter-widgets/base",
            "_view_module_version": "1.2.0",
            "_view_name": "LayoutView",
            "align_content": null,
            "align_items": null,
            "align_self": null,
            "border": null,
            "bottom": null,
            "display": null,
            "flex": null,
            "flex_flow": null,
            "grid_area": null,
            "grid_auto_columns": null,
            "grid_auto_flow": null,
            "grid_auto_rows": null,
            "grid_column": null,
            "grid_gap": null,
            "grid_row": null,
            "grid_template_areas": null,
            "grid_template_columns": null,
            "grid_template_rows": null,
            "height": null,
            "justify_content": null,
            "justify_items": null,
            "left": null,
            "margin": null,
            "max_height": null,
            "max_width": null,
            "min_height": null,
            "min_width": null,
            "object_fit": null,
            "object_position": null,
            "order": null,
            "overflow": null,
            "overflow_x": null,
            "overflow_y": null,
            "padding": null,
            "right": null,
            "top": null,
            "visibility": null,
            "width": null
          }
        },
        "bb7f40f5789a419e980080bac96916cb": {
          "model_module": "@jupyter-widgets/controls",
          "model_module_version": "1.5.0",
          "model_name": "IntSliderModel",
          "state": {
            "_dom_classes": [],
            "_model_module": "@jupyter-widgets/controls",
            "_model_module_version": "1.5.0",
            "_model_name": "IntSliderModel",
            "_view_count": null,
            "_view_module": "@jupyter-widgets/controls",
            "_view_module_version": "1.5.0",
            "_view_name": "IntSliderView",
            "continuous_update": true,
            "description": "X Slice:",
            "description_tooltip": null,
            "disabled": false,
            "layout": "IPY_MODEL_5433d7a5bc05460ca01f92c2f45099ad",
            "max": 299,
            "min": 0,
            "orientation": "horizontal",
            "readout": true,
            "readout_format": "d",
            "step": 1,
            "style": "IPY_MODEL_89dde09a92ca416fa8cd74507be8b0f3",
            "value": 150
          }
        },
        "f1fe73d9bfda40e89df87fb548ef1f85": {
          "model_module": "@jupyter-widgets/controls",
          "model_module_version": "1.5.0",
          "model_name": "SliderStyleModel",
          "state": {
            "_model_module": "@jupyter-widgets/controls",
            "_model_module_version": "1.5.0",
            "_model_name": "SliderStyleModel",
            "_view_count": null,
            "_view_module": "@jupyter-widgets/base",
            "_view_module_version": "1.2.0",
            "_view_name": "StyleView",
            "description_width": "",
            "handle_color": null
          }
        }
      }
    }
  },
  "nbformat": 4,
  "nbformat_minor": 0
}
